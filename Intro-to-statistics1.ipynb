{
 "cells": [
  {
   "cell_type": "markdown",
   "metadata": {},
   "source": [
    "Introduction to Scales"
   ]
  },
  {
   "cell_type": "code",
   "execution_count": 2,
   "metadata": {
    "collapsed": false
   },
   "outputs": [
    {
     "name": "stdout",
     "output_type": "stream",
     "text": [
      "26\n",
      "5\n"
     ]
    }
   ],
   "source": [
    "#Calcualting average\n",
    "car_speeds = [10,20,30,50,20]\n",
    "earthquake_intensities = [2,7,4,5,8]\n",
    "mean_car_speed =sum(car_speeds)/len(car_speeds)\n",
    "mean_earthquake_intensities=sum(earthquake_intensities)/len(earthquake_intensities)\n",
    "print(mean_car_speed)\n",
    "print(mean_earthquake_intensities)"
   ]
  },
  {
   "cell_type": "markdown",
   "metadata": {},
   "source": [
    "Discrete and Continuous Scales\n",
    "\n",
    "Scales can be either discrete or continuous.\n",
    "Think of someone marking down the number of inches a snail crawls every day. The snail could crawl 1 inch, 2 inches, 1.5 inches, 1.51 inches, or any other number, and it would be a valid observation. This is because inches are on a continuous scale, and even fractions of an inch are possible.\n",
    "Now think of someone counting the number of cars in a parking lot each day. 1 car, 2 cars, and 10 cars are valid measurements, but 1.5 cars isn't valid.\n",
    "Half of a car isn't a meaningful quantity, because cars are discrete. You can't have 52% of a car - you either have a car, or you don't.\n",
    "You can still average items on discrete scales, though. You could say \"1.75 cars use this parking lot each day, on average.\" Any daily value for number of cars, however, would need to be a whole number.\n",
    "Instructions"
   ]
  },
  {
   "cell_type": "code",
   "execution_count": 8,
   "metadata": {
    "collapsed": false
   },
   "outputs": [],
   "source": [
    "day_numbers = [1,2,3,4,5,6,7]\n",
    "snail_crawl_length = [.5,2,5,10,1,.25,4]\n",
    "cars_in_parking_lot = [5,6,4,2,1,7,8]\n",
    "\n",
    "import matplotlib.pyplot as plt\n",
    "#plt.plot(day_numbers,snail_crawl_length)\n",
    "#plt.show()\n",
    "#plt.plot(day_numbers,cars_in_parking_lot)\n",
    "#plt.show()\n"
   ]
  },
  {
   "cell_type": "markdown",
   "metadata": {},
   "source": [
    "Working With Ordinal Scales\n",
    "\n",
    "So far, we've looked at equal interval and discrete scales, where all of the values are numbers. We can also have ordinal scales, where items are ordered by rank.\n",
    "For example, we could ask people how many cigarettes they smoke per day, and the answers could be \"none,\" \"a few,\" \"some,\" or \"a lot.\" These answers don't map exactly to numbers of cigarettes, but we know that \"a few\" is more than \"none.\"\n",
    "This is an ordinal rating scale. We can assign numbers to the answers in a logical order to make them easier to work with.\n",
    "For example, we could map 0 to \"none,\" 1 to \"a few,\" 2 to \"some,\" and so on."
   ]
  },
  {
   "cell_type": "code",
   "execution_count": 6,
   "metadata": {
    "collapsed": false
   },
   "outputs": [
    {
     "name": "stdout",
     "output_type": "stream",
     "text": [
      "0.857142857143\n"
     ]
    }
   ],
   "source": [
    "# Results from our survey on how many cigarettes people smoke per day\n",
    "survey_responses = [\"none\", \"some\", \"a lot\", \"none\", \"a few\", \"none\", \"none\"]\n",
    "survey_scale=[\"none\",\"a few\",\"some\",\"a lot\"]\n",
    "survey_numbers=[survey_scale.index(response) for response in survey_responses]\n",
    "average_smoking=float(sum(survey_numbers))/float(len(survey_numbers))\n",
    "print(average_smoking)"
   ]
  },
  {
   "cell_type": "markdown",
   "metadata": {},
   "source": [
    "Grouping Values with Categorical Scales\n",
    "\n",
    "We can also have categorical scales, which group values into general categories.\n",
    "One example is gender, which can be male or female.\n",
    "Unlike ordinal scales, categorical scales don't have an order. In our gender example, for instance, one category isn't greater than or less than the other.\n",
    "Categories are common in data science. You'll typically use them to split data into groups."
   ]
  },
  {
   "cell_type": "code",
   "execution_count": 10,
   "metadata": {
    "collapsed": false
   },
   "outputs": [
    {
     "name": "stdout",
     "output_type": "stream",
     "text": [
      "2133.33333333\n",
      "4166.66666667\n"
     ]
    }
   ],
   "source": [
    "# Let's say that these lists are both columns in a matrix.  Index 0 is the first row in both, and so on.\n",
    "gender = [\"male\", \"female\", \"female\", \"male\", \"male\", \"female\"]\n",
    "savings = [1200, 5000, 3400, 2400, 2800, 4100]\n",
    "male_savings_list = [savings[i] for i in range(0, len(gender)) if gender[i] == \"male\"]\n",
    "female_savings_list = [savings[i] for i in range(0, len(gender)) if gender[i] == \"female\"]\n",
    "\n",
    "male_savings = float(sum(male_savings_list))/ float(len(male_savings_list))\n",
    "female_savings = float(sum(female_savings_list)) / float(len(female_savings_list))\n",
    "print(male_savings)\n",
    "print(female_savings)"
   ]
  },
  {
   "cell_type": "markdown",
   "metadata": {},
   "source": [
    "Visualizing Counts with Frequency Histograms\n",
    "\n",
    "A frequency histogram is a type of plot that helps us visualize counts of data.\n",
    "These plots tally how many times each value occurs in a list, then graph the values on the x-axis and the counts on the y-axis.\n",
    "Frequency histograms give us a better understanding of where values fall within a data set."
   ]
  },
  {
   "cell_type": "code",
   "execution_count": 11,
   "metadata": {
    "collapsed": false
   },
   "outputs": [
    {
     "data": {
      "image/png": "[encoded data removed]",
      "text/plain": [
       "<matplotlib.figure.Figure at 0x3dec5c0>"
      ]
     },
     "metadata": {},
     "output_type": "display_data"
    }
   ],
   "source": [
    "student_scores = [15, 80, 95, 100, 45, 75, 65]\n",
    "plt.hist(student_scores)\n",
    "plt.show()"
   ]
  },
  {
   "cell_type": "markdown",
   "metadata": {},
   "source": [
    "Aggregating Values with Histogram Bins\n",
    "\n",
    "You may have noticed that the code on the last screen plotted all of the values.\n",
    "In contrast, histograms use bins to count values. Bins aggregate values into predefined \"buckets.\"\n",
    "Here's how they work. If the x-axis ranges from 0 to 10 and we have 10 bins, the first bin would be for values between 0-1, the second would be for values between 1-2, and so on.\n",
    "If we have five bins, the first bin would be for values between 0-2, the second would be for values between 2-4, and so on.\n",
    "Each value in the list that falls within the bin would increase the bin's count by one. The result looks like a bar chart. Bins give us a better understanding of the shape and distribution of the data than graphing each count individually.\n",
    "Now that you know about bins, we'd like to point something out about what you saw on the previous screen. matplotlib's default number of bins for a plot is 10. We had fewer values than that, so matplotlib displayed all of the values.\n",
    "Let's experiment a bit with using different numbers of bins to gain a better understanding of how they work.\n"
   ]
  },
  {
   "cell_type": "code",
   "execution_count": 13,
   "metadata": {
    "collapsed": false
   },
   "outputs": [
    {
     "data": {
      "image/png": "[encoded data removed]",
      "text/plain": [
       "<matplotlib.figure.Figure at 0x7af2160>"
      ]
     },
     "metadata": {},
     "output_type": "display_data"
    },
    {
     "data": {
      "text/plain": [
       "'\\nplt.hist(average_speed, bins=4)\\nplt.show()\\nplt.hist(average_speed,bins=2)\\nplt.show()\\n'"
      ]
     },
     "execution_count": 13,
     "metadata": {},
     "output_type": "execute_result"
    }
   ],
   "source": [
    "average_speed = [10, 20, 25, 27, 28, 22, 15, 18, 17]\n",
    "import matplotlib.pyplot as plt\n",
    "plt.hist(average_speed, bins=6)\n",
    "plt.show()\n",
    "\n",
    "# As you can see, matplotlib groups the values in the list into the nearest bins.\n",
    "# If we have fewer bins, each bin will have a higher count (because there will be fewer bins to group all of the values into).\n",
    "# If there are more bins, the total for each one will decrease, because each one will contain fewer values.\n",
    "'''\n",
    "plt.hist(average_speed, bins=4)\n",
    "plt.show()\n",
    "plt.hist(average_speed,bins=2)\n",
    "plt.show()\n",
    "'''"
   ]
  },
  {
   "cell_type": "markdown",
   "metadata": {},
   "source": [
    "Measuring Data Skew\n",
    "\n",
    "Now that you know how to make histograms, did you notice how the plots have \"shapes?\"\n",
    "These shapes are important because they can show us the distributional characteristics of the data. The first characteristic we'll look at is skew.\n",
    "Skew refers to asymmetry in the data. When data is concentrated on the right side of the histogram, for example, we say it has a negative skew. When the data is concentrated on the left, we say it has a positive skew.\n",
    "We can measure the level of skew with the skew function. A positive value indicates a positive skew, a negative value indicates a negative skew, and a value close to zero indicates no skew.\n"
   ]
  },
  {
   "cell_type": "code",
   "execution_count": 26,
   "metadata": {
    "collapsed": false
   },
   "outputs": [
    {
     "data": {
      "image/png": "[encoded data removed]",
      "text/plain": [
       "<matplotlib.figure.Figure at 0x9971e10>"
      ]
     },
     "metadata": {},
     "output_type": "display_data"
    },
    {
     "data": {
      "image/png": "[encoded data removed]",
      "text/plain": [
       "<matplotlib.figure.Figure at 0x76f2898>"
      ]
     },
     "metadata": {},
     "output_type": "display_data"
    },
    {
     "data": {
      "image/png": "[encoded data removed]",
      "text/plain": [
       "<matplotlib.figure.Figure at 0x9da9fd0>"
      ]
     },
     "metadata": {},
     "output_type": "display_data"
    },
    {
     "name": "stdout",
     "output_type": "stream",
     "text": [
      "('positive skew is', 0.48810767543365113)\n",
      "('negative skew is', -0.6987620912665283)\n",
      "('no skew is', 0.1764767084934344)\n"
     ]
    }
   ],
   "source": [
    "# We've already loaded in some numpy arrays. We'll make some plots with them.\n",
    "# The arrays contain student test scores that are on a 0-100 scale.\n",
    "import matplotlib.pyplot as plt\n",
    "test_scores_negative=[10,20,30,40,41,50,56,60,64,68,70,75,77,84,86,85,89,91,92,93,98,99]\n",
    "test_scores_positive=[10,6,4,1,2,15,18,22,24,38,36,40,44,54,58,67,72,84,66,99,91,28,8]\n",
    "test_scores_normal=[10,20,37,34,46,48,58,59,61,64,39,79,46,89,96,99]\n",
    "\n",
    "# See how there's a long slope to the left?\n",
    "# The data is concentrated in the right part of the distribution, but some people also scored poorly.\n",
    "# This plot has a negative skew.\n",
    "plt.hist(test_scores_negative)\n",
    "plt.show()\n",
    "# This plot has a long slope to the right.\n",
    "# Most students did poorly, but a few did really well.\n",
    "# This plot has a positive skew.\n",
    "plt.hist(test_scores_positive)\n",
    "plt.show()\n",
    "\n",
    "# This plot has no skew either way. Most of the values are in the center, and there is no long slope either way.\n",
    "# It is an unskewed distribution.\n",
    "plt.hist(test_scores_normal)\n",
    "plt.show()\n",
    "# We can test how skewed a distribution is using the skew function.\n",
    "# A positive value means positive skew, a negative value means negative skew, and close to zero means no skew.\n",
    "from scipy.stats import skew\n",
    "positive_skew=skew(test_scores_positive)\n",
    "negative_skew=skew(test_scores_negative)\n",
    "no_skew=skew(test_scores_normal)\n",
    "print('positive skew is',positive_skew)\n",
    "print('negative skew is',negative_skew)\n",
    "print('no skew is',no_skew)"
   ]
  },
  {
   "cell_type": "markdown",
   "metadata": {},
   "source": [
    "Checking for Outliers with Kurtosis\n",
    "\n",
    "Kurtosis is another characteristic of distributions. Kurtosis measures whether the distribution is short and flat, or tall and skinny. In other words, it assesses the shape of the peak.\n",
    "\"Shorter\" distributions have a lower maximum frequency, but higher subsequent frequencies. A high kurtosis may indicate problems with outliers (very large or very small values that skew the data).\n",
    "\n",
    "Negative values indicate platykurtic distributions, positive values indicate leptokurtic distributions, and values near 0 are mesokurtic.\n",
    "\n",
    "Plattykurtic-fatter distribution , leptokurtic --taller distribution, mesokurtic-shorter distribution\n",
    "from scipy.stats import kurtosis\n"
   ]
  },
  {
   "cell_type": "markdown",
   "metadata": {},
   "source": [
    "Modality\n",
    "\n",
    "Modality is another characteristic of distributions. Modality refers to the number of modes, or peaks, in a distribution.\n",
    "Real-world data is often unimodal (it has only one mode)."
   ]
  },
  {
   "cell_type": "markdown",
   "metadata": {},
   "source": [
    "Measures of Central Tendency\n",
    "\n",
    "Central tendency measures assess how likely the data points are to cluster around a central value.\n",
    "The first one we'll look at is the mean. We've calculated mean before, but let's explore it further.\n",
    "The mean is just the sum of all of the elements in an array divided by the number of elements."
   ]
  },
  {
   "cell_type": "code",
   "execution_count": 29,
   "metadata": {
    "collapsed": false
   },
   "outputs": [
    {
     "data": {
      "image/png": "[encoded data removed]",
      "text/plain": [
       "<matplotlib.figure.Figure at 0x9927c18>"
      ]
     },
     "metadata": {},
     "output_type": "display_data"
    }
   ],
   "source": [
    "import matplotlib.pyplot as plt\n",
    "import numpy as np\n",
    "# Let's put a line over our plot that shows the mean.\n",
    "# This is the same histogram we plotted for skew a few screens ago.\n",
    "plt.hist(test_scores_normal)\n",
    "# We can use the .mean() method of a numpy array to compute the mean.\n",
    "mean_test_score = np.mean(test_scores_normal)\n",
    "# The axvline function will plot a vertical line over an existing plot.\n",
    "plt.axvline(mean_test_score)\n",
    "\n",
    "# Now we can show the plot and clear the figure.\n",
    "plt.show()"
   ]
  },
  {
   "cell_type": "markdown",
   "metadata": {},
   "source": [
    "Calcultaing the Median\n",
    "\n",
    "Median is another measure of central tendency. This is the midpoint of an array.\n",
    "To calculate the median, we need to sort the array, then take the value in the middle. If there are two values in the middle (because there are an even number of items in the array), then we take the mean of the two middle values.\n",
    "The median is less sensitive to very large or very small values (which we call outliers), and is a more realistic center of the distribution."
   ]
  },
  {
   "cell_type": "code",
   "execution_count": 31,
   "metadata": {
    "collapsed": false
   },
   "outputs": [
    {
     "data": {
      "image/png": "[encoded data removed]",
      "text/plain": [
       "<matplotlib.figure.Figure at 0x753b9e8>"
      ]
     },
     "metadata": {},
     "output_type": "display_data"
    }
   ],
   "source": [
    "# Plot the histogram\n",
    "plt.hist(test_scores_negative)\n",
    "# Compute the median\n",
    "median = np.median(test_scores_negative)\n",
    "\n",
    "# Plot the median in blue (the color argument of \"b\" means blue)\n",
    "plt.axvline(median, color=\"b\")\n",
    "plt.show()"
   ]
  },
  {
   "cell_type": "code",
   "execution_count": null,
   "metadata": {
    "collapsed": true
   },
   "outputs": [],
   "source": []
  }
 ],
 "metadata": {
  "anaconda-cloud": {},
  "kernelspec": {
   "display_name": "Python [default]",
   "language": "python",
   "name": "python2"
  },
  "language_info": {
   "codemirror_mode": {
    "name": "ipython",
    "version": 2
   },
   "file_extension": ".py",
   "mimetype": "text/x-python",
   "name": "python",
   "nbconvert_exporter": "python",
   "pygments_lexer": "ipython2",
   "version": "2.7.12"
  }
 },
 "nbformat": 4,
 "nbformat_minor": 1
}
